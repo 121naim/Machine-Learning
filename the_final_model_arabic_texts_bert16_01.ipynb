{
  "nbformat": 4,
  "nbformat_minor": 0,
  "metadata": {
    "kernelspec": {
      "language": "python",
      "display_name": "Python 3",
      "name": "python3"
    },
    "language_info": {
      "name": "python",
      "version": "3.7.6",
      "mimetype": "text/x-python",
      "codemirror_mode": {
        "name": "ipython",
        "version": 3
      },
      "pygments_lexer": "ipython3",
      "nbconvert_exporter": "python",
      "file_extension": ".py"
    },
    "colab": {
      "name": "the-final-model-arabic-texts-bert16/01.ipynb",
      "provenance": [],
      "collapsed_sections": [],
      "include_colab_link": true
    },
    "accelerator": "TPU"
  },
  "cells": [
    {
      "cell_type": "markdown",
      "metadata": {
        "id": "view-in-github",
        "colab_type": "text"
      },
      "source": [
        "<a href=\"https://colab.research.google.com/github/NaimMhedhbi1/Machine-Learning/blob/master/the_final_model_arabic_texts_bert16_01.ipynb\" target=\"_parent\"><img src=\"https://colab.research.google.com/assets/colab-badge.svg\" alt=\"Open In Colab\"/></a>"
      ]
    },
    {
      "cell_type": "code",
      "metadata": {
        "id": "YCE-UMlllzLs",
        "colab": {
          "resources": {
            "http://localhost:8080/nbextensions/google.colab/files.js": {
              "data": "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",
              "ok": true,
              "headers": [
                [
                  "content-type",
                  "application/javascript"
                ]
              ],
              "status": 200,
              "status_text": ""
            }
          },
          "base_uri": "https://localhost:8080/",
          "height": 93
        },
        "outputId": "9f3a5827-1042-49be-da0a-2083b343338a"
      },
      "source": [
        "from google.colab import files\r\n",
        "\r\n",
        "uploaded = files.upload()"
      ],
      "execution_count": 1,
      "outputs": [
        {
          "output_type": "display_data",
          "data": {
            "text/html": [
              "\n",
              "     <input type=\"file\" id=\"files-b84662b4-864b-4ca3-811b-631010117461\" name=\"files[]\" multiple disabled\n",
              "        style=\"border:none\" />\n",
              "     <output id=\"result-b84662b4-864b-4ca3-811b-631010117461\">\n",
              "      Upload widget is only available when the cell has been executed in the\n",
              "      current browser session. Please rerun this cell to enable.\n",
              "      </output>\n",
              "      <script src=\"/nbextensions/google.colab/files.js\"></script> "
            ],
            "text/plain": [
              "<IPython.core.display.HTML object>"
            ]
          },
          "metadata": {
            "tags": []
          }
        },
        {
          "output_type": "stream",
          "text": [
            "Saving dialect tunisian corpus for sentiment Analysis with 3 classes.txt to dialect tunisian corpus for sentiment Analysis with 3 classes.txt\n"
          ],
          "name": "stdout"
        }
      ]
    },
    {
      "cell_type": "code",
      "metadata": {
        "id": "2PfgDo1gl156"
      },
      "source": [
        "import pandas as pd\r\n",
        "import io\r\n",
        "df = pd.read_csv(io.BytesIO(uploaded['dialect tunisian corpus for sentiment Analysis with 3 classes.txt']), lineterminator='\\n')"
      ],
      "execution_count": 2,
      "outputs": []
    },
    {
      "cell_type": "code",
      "metadata": {
        "execution": {
          "iopub.execute_input": "2021-01-14T22:01:47.381617Z",
          "iopub.status.busy": "2021-01-14T22:01:47.380952Z",
          "iopub.status.idle": "2021-01-14T22:02:24.816502Z",
          "shell.execute_reply": "2021-01-14T22:02:24.815466Z"
        },
        "papermill": {
          "duration": 37.467542,
          "end_time": "2021-01-14T22:02:24.816630",
          "exception": false,
          "start_time": "2021-01-14T22:01:47.349088",
          "status": "completed"
        },
        "tags": [],
        "trusted": true,
        "id": "DJ8L9C8ZlpWQ",
        "colab": {
          "base_uri": "https://localhost:8080/"
        },
        "outputId": "57b8fd24-6225-4404-a955-819ed3613f20"
      },
      "source": [
        "!pip install ktrain"
      ],
      "execution_count": null,
      "outputs": [
        {
          "output_type": "stream",
          "text": [
            "Collecting ktrain\n",
            "\u001b[?25l  Downloading https://files.pythonhosted.org/packages/84/c3/3147b9a86f236585eb7bb9b115e024a6f3acfcd92df1520f491853c6f6e0/ktrain-0.25.3.tar.gz (25.3MB)\n",
            "\u001b[K     |████████████████████████████████| 25.3MB 172kB/s \n",
            "\u001b[?25hCollecting scikit-learn==0.23.2\n",
            "\u001b[?25l  Downloading https://files.pythonhosted.org/packages/5c/a1/273def87037a7fb010512bbc5901c31cfddfca8080bc63b42b26e3cc55b3/scikit_learn-0.23.2-cp36-cp36m-manylinux1_x86_64.whl (6.8MB)\n",
            "\u001b[K     |████████████████████████████████| 6.8MB 49.6MB/s \n",
            "\u001b[?25hRequirement already satisfied: matplotlib>=3.0.0 in /usr/local/lib/python3.6/dist-packages (from ktrain) (3.2.2)\n",
            "Requirement already satisfied: pandas>=1.0.1 in /usr/local/lib/python3.6/dist-packages (from ktrain) (1.1.5)\n",
            "Requirement already satisfied: fastprogress>=0.1.21 in /usr/local/lib/python3.6/dist-packages (from ktrain) (1.0.0)\n",
            "Requirement already satisfied: requests in /usr/local/lib/python3.6/dist-packages (from ktrain) (2.23.0)\n",
            "Requirement already satisfied: joblib in /usr/local/lib/python3.6/dist-packages (from ktrain) (1.0.0)\n",
            "Requirement already satisfied: packaging in /usr/local/lib/python3.6/dist-packages (from ktrain) (20.8)\n",
            "Requirement already satisfied: ipython in /usr/local/lib/python3.6/dist-packages (from ktrain) (5.5.0)\n",
            "Collecting langdetect\n",
            "\u001b[?25l  Downloading https://files.pythonhosted.org/packages/56/a3/8407c1e62d5980188b4acc45ef3d94b933d14a2ebc9ef3505f22cf772570/langdetect-1.0.8.tar.gz (981kB)\n",
            "\u001b[K     |████████████████████████████████| 983kB 36.4MB/s \n",
            "\u001b[?25hRequirement already satisfied: jieba in /usr/local/lib/python3.6/dist-packages (from ktrain) (0.42.1)\n",
            "Collecting cchardet\n",
            "\u001b[?25l  Downloading https://files.pythonhosted.org/packages/a0/e5/a0b9edd8664ea3b0d3270c451ebbf86655ed9fc4c3e4c45b9afae9c2e382/cchardet-2.1.7-cp36-cp36m-manylinux2010_x86_64.whl (263kB)\n",
            "\u001b[K     |████████████████████████████████| 266kB 34.4MB/s \n",
            "\u001b[?25hCollecting syntok\n",
            "  Downloading https://files.pythonhosted.org/packages/8c/76/a49e73a04b3e3a14ce232e8e28a1587f8108baa665644fe8c40e307e792e/syntok-1.3.1.tar.gz\n",
            "Collecting seqeval==0.0.19\n",
            "  Downloading https://files.pythonhosted.org/packages/93/e5/b7705156a77f742cfe4fc6f22d0c71591edb2d243328dff2f8fc0f933ab6/seqeval-0.0.19.tar.gz\n",
            "Collecting transformers<4.0,>=3.1.0\n",
            "\u001b[?25l  Downloading https://files.pythonhosted.org/packages/3a/83/e74092e7f24a08d751aa59b37a9fc572b2e4af3918cb66f7766c3affb1b4/transformers-3.5.1-py3-none-any.whl (1.3MB)\n",
            "\u001b[K     |████████████████████████████████| 1.3MB 29.9MB/s \n",
            "\u001b[?25hCollecting sentencepiece\n",
            "\u001b[?25l  Downloading https://files.pythonhosted.org/packages/14/67/e42bd1181472c95c8cda79305df848264f2a7f62740995a46945d9797b67/sentencepiece-0.1.95-cp36-cp36m-manylinux2014_x86_64.whl (1.2MB)\n",
            "\u001b[K     |████████████████████████████████| 1.2MB 28.1MB/s \n",
            "\u001b[?25hCollecting keras_bert>=0.86.0\n",
            "  Downloading https://files.pythonhosted.org/packages/e2/7f/95fabd29f4502924fa3f09ff6538c5a7d290dfef2c2fe076d3d1a16e08f0/keras-bert-0.86.0.tar.gz\n",
            "Requirement already satisfied: networkx>=2.3 in /usr/local/lib/python3.6/dist-packages (from ktrain) (2.5)\n",
            "Collecting whoosh\n",
            "\u001b[?25l  Downloading https://files.pythonhosted.org/packages/ba/19/24d0f1f454a2c1eb689ca28d2f178db81e5024f42d82729a4ff6771155cf/Whoosh-2.7.4-py2.py3-none-any.whl (468kB)\n",
            "\u001b[K     |████████████████████████████████| 471kB 46.3MB/s \n",
            "\u001b[?25hRequirement already satisfied: numpy>=1.13.3 in /usr/local/lib/python3.6/dist-packages (from scikit-learn==0.23.2->ktrain) (1.19.5)\n",
            "Requirement already satisfied: scipy>=0.19.1 in /usr/local/lib/python3.6/dist-packages (from scikit-learn==0.23.2->ktrain) (1.4.1)\n",
            "Collecting threadpoolctl>=2.0.0\n",
            "  Downloading https://files.pythonhosted.org/packages/f7/12/ec3f2e203afa394a149911729357aa48affc59c20e2c1c8297a60f33f133/threadpoolctl-2.1.0-py3-none-any.whl\n",
            "Requirement already satisfied: pyparsing!=2.0.4,!=2.1.2,!=2.1.6,>=2.0.1 in /usr/local/lib/python3.6/dist-packages (from matplotlib>=3.0.0->ktrain) (2.4.7)\n",
            "Requirement already satisfied: cycler>=0.10 in /usr/local/lib/python3.6/dist-packages (from matplotlib>=3.0.0->ktrain) (0.10.0)\n",
            "Requirement already satisfied: kiwisolver>=1.0.1 in /usr/local/lib/python3.6/dist-packages (from matplotlib>=3.0.0->ktrain) (1.3.1)\n",
            "Requirement already satisfied: python-dateutil>=2.1 in /usr/local/lib/python3.6/dist-packages (from matplotlib>=3.0.0->ktrain) (2.8.1)\n",
            "Requirement already satisfied: pytz>=2017.2 in /usr/local/lib/python3.6/dist-packages (from pandas>=1.0.1->ktrain) (2018.9)\n",
            "Requirement already satisfied: chardet<4,>=3.0.2 in /usr/local/lib/python3.6/dist-packages (from requests->ktrain) (3.0.4)\n",
            "Requirement already satisfied: certifi>=2017.4.17 in /usr/local/lib/python3.6/dist-packages (from requests->ktrain) (2020.12.5)\n",
            "Requirement already satisfied: idna<3,>=2.5 in /usr/local/lib/python3.6/dist-packages (from requests->ktrain) (2.10)\n",
            "Requirement already satisfied: urllib3!=1.25.0,!=1.25.1,<1.26,>=1.21.1 in /usr/local/lib/python3.6/dist-packages (from requests->ktrain) (1.24.3)\n",
            "Requirement already satisfied: pickleshare in /usr/local/lib/python3.6/dist-packages (from ipython->ktrain) (0.7.5)\n",
            "Requirement already satisfied: pygments in /usr/local/lib/python3.6/dist-packages (from ipython->ktrain) (2.6.1)\n",
            "Requirement already satisfied: prompt-toolkit<2.0.0,>=1.0.4 in /usr/local/lib/python3.6/dist-packages (from ipython->ktrain) (1.0.18)\n",
            "Requirement already satisfied: pexpect; sys_platform != \"win32\" in /usr/local/lib/python3.6/dist-packages (from ipython->ktrain) (4.8.0)\n",
            "Requirement already satisfied: simplegeneric>0.8 in /usr/local/lib/python3.6/dist-packages (from ipython->ktrain) (0.8.1)\n",
            "Requirement already satisfied: traitlets>=4.2 in /usr/local/lib/python3.6/dist-packages (from ipython->ktrain) (4.3.3)\n",
            "Requirement already satisfied: decorator in /usr/local/lib/python3.6/dist-packages (from ipython->ktrain) (4.4.2)\n",
            "Requirement already satisfied: setuptools>=18.5 in /usr/local/lib/python3.6/dist-packages (from ipython->ktrain) (51.1.1)\n",
            "Requirement already satisfied: six in /usr/local/lib/python3.6/dist-packages (from langdetect->ktrain) (1.15.0)\n",
            "Requirement already satisfied: regex in /usr/local/lib/python3.6/dist-packages (from syntok->ktrain) (2019.12.20)\n",
            "Requirement already satisfied: Keras>=2.2.4 in /usr/local/lib/python3.6/dist-packages (from seqeval==0.0.19->ktrain) (2.4.3)\n",
            "Collecting sacremoses\n",
            "\u001b[?25l  Downloading https://files.pythonhosted.org/packages/7d/34/09d19aff26edcc8eb2a01bed8e98f13a1537005d31e95233fd48216eed10/sacremoses-0.0.43.tar.gz (883kB)\n",
            "\u001b[K     |████████████████████████████████| 890kB 48.3MB/s \n",
            "\u001b[?25hRequirement already satisfied: dataclasses; python_version < \"3.7\" in /usr/local/lib/python3.6/dist-packages (from transformers<4.0,>=3.1.0->ktrain) (0.8)\n",
            "Collecting tokenizers==0.9.3\n",
            "\u001b[?25l  Downloading https://files.pythonhosted.org/packages/4c/34/b39eb9994bc3c999270b69c9eea40ecc6f0e97991dba28282b9fd32d44ee/tokenizers-0.9.3-cp36-cp36m-manylinux1_x86_64.whl (2.9MB)\n",
            "\u001b[K     |████████████████████████████████| 2.9MB 41.1MB/s \n",
            "\u001b[?25hRequirement already satisfied: filelock in /usr/local/lib/python3.6/dist-packages (from transformers<4.0,>=3.1.0->ktrain) (3.0.12)\n",
            "Requirement already satisfied: tqdm>=4.27 in /usr/local/lib/python3.6/dist-packages (from transformers<4.0,>=3.1.0->ktrain) (4.41.1)\n",
            "Requirement already satisfied: protobuf in /usr/local/lib/python3.6/dist-packages (from transformers<4.0,>=3.1.0->ktrain) (3.12.4)\n",
            "Collecting keras-transformer>=0.38.0\n",
            "  Downloading https://files.pythonhosted.org/packages/89/6c/d6f0c164f4cc16fbc0d0fea85f5526e87a7d2df7b077809e422a7e626150/keras-transformer-0.38.0.tar.gz\n",
            "Requirement already satisfied: wcwidth in /usr/local/lib/python3.6/dist-packages (from prompt-toolkit<2.0.0,>=1.0.4->ipython->ktrain) (0.2.5)\n",
            "Requirement already satisfied: ptyprocess>=0.5 in /usr/local/lib/python3.6/dist-packages (from pexpect; sys_platform != \"win32\"->ipython->ktrain) (0.7.0)\n",
            "Requirement already satisfied: ipython-genutils in /usr/local/lib/python3.6/dist-packages (from traitlets>=4.2->ipython->ktrain) (0.2.0)\n",
            "Requirement already satisfied: pyyaml in /usr/local/lib/python3.6/dist-packages (from Keras>=2.2.4->seqeval==0.0.19->ktrain) (3.13)\n",
            "Requirement already satisfied: h5py in /usr/local/lib/python3.6/dist-packages (from Keras>=2.2.4->seqeval==0.0.19->ktrain) (2.10.0)\n",
            "Requirement already satisfied: click in /usr/local/lib/python3.6/dist-packages (from sacremoses->transformers<4.0,>=3.1.0->ktrain) (7.1.2)\n",
            "Collecting keras-pos-embd>=0.11.0\n",
            "  Downloading https://files.pythonhosted.org/packages/09/70/b63ed8fc660da2bb6ae29b9895401c628da5740c048c190b5d7107cadd02/keras-pos-embd-0.11.0.tar.gz\n",
            "Collecting keras-multi-head>=0.27.0\n",
            "  Downloading https://files.pythonhosted.org/packages/e6/32/45adf2549450aca7867deccfa04af80a0ab1ca139af44b16bc669e0e09cd/keras-multi-head-0.27.0.tar.gz\n",
            "Collecting keras-layer-normalization>=0.14.0\n",
            "  Downloading https://files.pythonhosted.org/packages/a4/0e/d1078df0494bac9ce1a67954e5380b6e7569668f0f3b50a9531c62c1fc4a/keras-layer-normalization-0.14.0.tar.gz\n",
            "Collecting keras-position-wise-feed-forward>=0.6.0\n",
            "  Downloading https://files.pythonhosted.org/packages/e3/59/f0faa1037c033059e7e9e7758e6c23b4d1c0772cd48de14c4b6fd4033ad5/keras-position-wise-feed-forward-0.6.0.tar.gz\n",
            "Collecting keras-embed-sim>=0.8.0\n",
            "  Downloading https://files.pythonhosted.org/packages/57/ef/61a1e39082c9e1834a2d09261d4a0b69f7c818b359216d4e1912b20b1c86/keras-embed-sim-0.8.0.tar.gz\n",
            "Collecting keras-self-attention==0.46.0\n",
            "  Downloading https://files.pythonhosted.org/packages/15/6b/c804924a056955fa1f3ff767945187103cfc851ba9bd0fc5a6c6bc18e2eb/keras-self-attention-0.46.0.tar.gz\n",
            "Building wheels for collected packages: ktrain, langdetect, syntok, seqeval, keras-bert, sacremoses, keras-transformer, keras-pos-embd, keras-multi-head, keras-layer-normalization, keras-position-wise-feed-forward, keras-embed-sim, keras-self-attention\n",
            "  Building wheel for ktrain (setup.py) ... \u001b[?25l\u001b[?25hdone\n",
            "  Created wheel for ktrain: filename=ktrain-0.25.3-cp36-none-any.whl size=25276312 sha256=84673a84b7bdb9eb087bdac84ef44835ce7e0181db23789a40b6ff63e00b65ec\n",
            "  Stored in directory: /root/.cache/pip/wheels/86/cd/9c/ad53b98a3eccf4ddeddccfce99d353781f206a1ac4287ca721\n",
            "  Building wheel for langdetect (setup.py) ... \u001b[?25l\u001b[?25hdone\n",
            "  Created wheel for langdetect: filename=langdetect-1.0.8-cp36-none-any.whl size=993194 sha256=7d069e71e0049177ac9ef05494048346a7208a3695f5d8acb5d7c3df47a0f559\n",
            "  Stored in directory: /root/.cache/pip/wheels/8d/b3/aa/6d99de9f3841d7d3d40a60ea06e6d669e8e5012e6c8b947a57\n",
            "  Building wheel for syntok (setup.py) ... \u001b[?25l\u001b[?25hdone\n",
            "  Created wheel for syntok: filename=syntok-1.3.1-cp36-none-any.whl size=20918 sha256=9ed9bdb18899089cdf0d40562edaf249ba70315a91edc2575f09020c85037a6d\n",
            "  Stored in directory: /root/.cache/pip/wheels/51/c6/a4/be1920586c49469846bcd2888200bdecfe109ec421dab9be2d\n",
            "  Building wheel for seqeval (setup.py) ... \u001b[?25l\u001b[?25hdone\n",
            "  Created wheel for seqeval: filename=seqeval-0.0.19-cp36-none-any.whl size=9919 sha256=f1402ffbdfbd90b7c138673ff1c88bad04b07481d211f20693c7eb2f800c8467\n",
            "  Stored in directory: /root/.cache/pip/wheels/8d/1f/bf/1198beceed805a2099060975f6281d1b01046dd279e19c97be\n",
            "  Building wheel for keras-bert (setup.py) ... \u001b[?25l\u001b[?25hdone\n",
            "  Created wheel for keras-bert: filename=keras_bert-0.86.0-cp36-none-any.whl size=34145 sha256=85b9d439e3e0ad585ca66444e90cc734e60a5c2db486bce13e66b57688e82bf8\n",
            "  Stored in directory: /root/.cache/pip/wheels/66/f0/b1/748128b58562fc9e31b907bb5e2ab6a35eb37695e83911236b\n",
            "  Building wheel for sacremoses (setup.py) ... \u001b[?25l\u001b[?25hdone\n",
            "  Created wheel for sacremoses: filename=sacremoses-0.0.43-cp36-none-any.whl size=893261 sha256=521156b273b89784c4b055294f7d3ef2701e98081ad2e1fa6e8451b4b461fde6\n",
            "  Stored in directory: /root/.cache/pip/wheels/29/3c/fd/7ce5c3f0666dab31a50123635e6fb5e19ceb42ce38d4e58f45\n",
            "  Building wheel for keras-transformer (setup.py) ... \u001b[?25l\u001b[?25hdone\n",
            "  Created wheel for keras-transformer: filename=keras_transformer-0.38.0-cp36-none-any.whl size=12944 sha256=d38943433ce747e00de52cbe895d41b478741c8f097b4b28588539a6952fe42f\n",
            "  Stored in directory: /root/.cache/pip/wheels/e5/fb/3a/37b2b9326c799aa010ae46a04ddb04f320d8c77c0b7e837f4e\n",
            "  Building wheel for keras-pos-embd (setup.py) ... \u001b[?25l\u001b[?25hdone\n",
            "  Created wheel for keras-pos-embd: filename=keras_pos_embd-0.11.0-cp36-none-any.whl size=7553 sha256=34391c8938fb5d21f8d0322d3644b9e4b126a4644488141286e058b9ae2144a6\n",
            "  Stored in directory: /root/.cache/pip/wheels/5b/a1/a0/ce6b1d49ba1a9a76f592e70cf297b05c96bc9f418146761032\n",
            "  Building wheel for keras-multi-head (setup.py) ... \u001b[?25l\u001b[?25hdone\n",
            "  Created wheel for keras-multi-head: filename=keras_multi_head-0.27.0-cp36-none-any.whl size=15612 sha256=899f47796f0f3012053416f698b74cc77fee87f94eba092d4a818fb16cf7b2f8\n",
            "  Stored in directory: /root/.cache/pip/wheels/b5/b4/49/0a0c27dcb93c13af02fea254ff51d1a43a924dd4e5b7a7164d\n",
            "  Building wheel for keras-layer-normalization (setup.py) ... \u001b[?25l\u001b[?25hdone\n",
            "  Created wheel for keras-layer-normalization: filename=keras_layer_normalization-0.14.0-cp36-none-any.whl size=5267 sha256=37590fa4a4c4fc309ccdd3c0e7303f9f9959f8e25c1fca1f1ac389330c4cea0d\n",
            "  Stored in directory: /root/.cache/pip/wheels/54/80/22/a638a7d406fd155e507aa33d703e3fa2612b9eb7bb4f4fe667\n",
            "  Building wheel for keras-position-wise-feed-forward (setup.py) ... \u001b[?25l\u001b[?25hdone\n",
            "  Created wheel for keras-position-wise-feed-forward: filename=keras_position_wise_feed_forward-0.6.0-cp36-none-any.whl size=5625 sha256=66256092865f285ac3c2ad1f2a14bad416567f7943a2da7067abb59125c121e6\n",
            "  Stored in directory: /root/.cache/pip/wheels/39/e2/e2/3514fef126a00574b13bc0b9e23891800158df3a3c19c96e3b\n"
          ],
          "name": "stdout"
        }
      ]
    },
    {
      "cell_type": "markdown",
      "metadata": {
        "papermill": {
          "duration": 0.07287,
          "end_time": "2021-01-14T22:02:24.963751",
          "exception": false,
          "start_time": "2021-01-14T22:02:24.890881",
          "status": "completed"
        },
        "tags": [],
        "id": "HmcR8Tw-lpWZ"
      },
      "source": [
        "**Importing required libraries:**"
      ]
    },
    {
      "cell_type": "code",
      "metadata": {
        "_cell_guid": "b1076dfc-b9ad-4769-8c92-a6c4dae69d19",
        "_uuid": "8f2839f25d086af736a60e9eeb907d3b93b6e0e5",
        "execution": {
          "iopub.execute_input": "2021-01-14T22:02:25.151803Z",
          "iopub.status.busy": "2021-01-14T22:02:25.148239Z",
          "iopub.status.idle": "2021-01-14T22:02:35.526719Z",
          "shell.execute_reply": "2021-01-14T22:02:35.526213Z"
        },
        "papermill": {
          "duration": 10.489039,
          "end_time": "2021-01-14T22:02:35.526826",
          "exception": false,
          "start_time": "2021-01-14T22:02:25.037787",
          "status": "completed"
        },
        "tags": [],
        "trusted": true,
        "id": "PGZMN6OFlpWa"
      },
      "source": [
        "import pandas as pd\n",
        "import numpy as np\n",
        "import ktrain\n",
        "import tensorflow as tf\n",
        "from ktrain import text"
      ],
      "execution_count": null,
      "outputs": []
    },
    {
      "cell_type": "markdown",
      "metadata": {
        "papermill": {
          "duration": 0.072781,
          "end_time": "2021-01-14T22:02:35.674401",
          "exception": false,
          "start_time": "2021-01-14T22:02:35.601620",
          "status": "completed"
        },
        "tags": [],
        "id": "ooxMvtlLlpWa"
      },
      "source": [
        "Checking version of TF, so that when later we will reload the model, we can use same version of TF:"
      ]
    },
    {
      "cell_type": "code",
      "metadata": {
        "execution": {
          "iopub.execute_input": "2021-01-14T22:02:35.828344Z",
          "iopub.status.busy": "2021-01-14T22:02:35.827772Z",
          "iopub.status.idle": "2021-01-14T22:02:35.833941Z",
          "shell.execute_reply": "2021-01-14T22:02:35.833533Z"
        },
        "papermill": {
          "duration": 0.084949,
          "end_time": "2021-01-14T22:02:35.834030",
          "exception": false,
          "start_time": "2021-01-14T22:02:35.749081",
          "status": "completed"
        },
        "tags": [],
        "trusted": true,
        "id": "OlExZAiAlpWb"
      },
      "source": [
        "tf.version.VERSION"
      ],
      "execution_count": null,
      "outputs": []
    },
    {
      "cell_type": "markdown",
      "metadata": {
        "papermill": {
          "duration": 0.073773,
          "end_time": "2021-01-14T22:02:35.981577",
          "exception": false,
          "start_time": "2021-01-14T22:02:35.907804",
          "status": "completed"
        },
        "tags": [],
        "id": "K2fCFXXOlpWb"
      },
      "source": [
        "# Preparing our train and test dataset:"
      ]
    },
    {
      "cell_type": "markdown",
      "metadata": {
        "papermill": {
          "duration": 0.073459,
          "end_time": "2021-01-14T22:02:36.129190",
          "exception": false,
          "start_time": "2021-01-14T22:02:36.055731",
          "status": "completed"
        },
        "tags": [],
        "id": "RFr_B_rElpWc"
      },
      "source": [
        "Get data loaded from train.txt to df_train dataframe and teast.txt to df_test dataframe."
      ]
    },
    {
      "cell_type": "code",
      "metadata": {
        "execution": {
          "iopub.execute_input": "2021-01-14T22:02:36.288919Z",
          "iopub.status.busy": "2021-01-14T22:02:36.288398Z",
          "iopub.status.idle": "2021-01-14T22:02:36.801397Z",
          "shell.execute_reply": "2021-01-14T22:02:36.800549Z"
        },
        "papermill": {
          "duration": 0.597913,
          "end_time": "2021-01-14T22:02:36.801506",
          "exception": false,
          "start_time": "2021-01-14T22:02:36.203593",
          "status": "completed"
        },
        "tags": [],
        "trusted": true,
        "id": "THdKiiJdlpWc"
      },
      "source": [
        "#df = pd.read_csv(\"../input/tunisian-texts/dialect tunisian corpus for sentiment Analysis with 3 classes.txt\",lineterminator='\\n')\n",
        "#,lineterminator='\\n'"
      ],
      "execution_count": null,
      "outputs": []
    },
    {
      "cell_type": "code",
      "metadata": {
        "execution": {
          "iopub.execute_input": "2021-01-14T22:02:36.959266Z",
          "iopub.status.busy": "2021-01-14T22:02:36.958699Z",
          "iopub.status.idle": "2021-01-14T22:02:37.256041Z",
          "shell.execute_reply": "2021-01-14T22:02:37.254970Z"
        },
        "papermill": {
          "duration": 0.381022,
          "end_time": "2021-01-14T22:02:37.256186",
          "exception": false,
          "start_time": "2021-01-14T22:02:36.875164",
          "status": "completed"
        },
        "tags": [],
        "trusted": true,
        "id": "BrPBz5ellpWd"
      },
      "source": [
        "df['label'] = df['label'].astype(str)\n",
        "df['text'] = df['text'].astype(str)"
      ],
      "execution_count": null,
      "outputs": []
    },
    {
      "cell_type": "code",
      "metadata": {
        "execution": {
          "iopub.execute_input": "2021-01-14T22:02:37.410802Z",
          "iopub.status.busy": "2021-01-14T22:02:37.410031Z",
          "iopub.status.idle": "2021-01-14T22:02:37.452156Z",
          "shell.execute_reply": "2021-01-14T22:02:37.451689Z"
        },
        "papermill": {
          "duration": 0.120424,
          "end_time": "2021-01-14T22:02:37.452279",
          "exception": false,
          "start_time": "2021-01-14T22:02:37.331855",
          "status": "completed"
        },
        "tags": [],
        "trusted": true,
        "id": "NeXeF485lpWd"
      },
      "source": [
        "from sklearn.model_selection import train_test_split\n",
        "df_train,df_test = train_test_split(df , test_size=0.1, random_state=42)"
      ],
      "execution_count": null,
      "outputs": []
    },
    {
      "cell_type": "markdown",
      "metadata": {
        "papermill": {
          "duration": 0.073179,
          "end_time": "2021-01-14T22:02:37.756190",
          "exception": false,
          "start_time": "2021-01-14T22:02:37.683011",
          "status": "completed"
        },
        "tags": [],
        "id": "jFbaNvYIlpWe"
      },
      "source": [
        "Checking first few rows of our train dataset."
      ]
    },
    {
      "cell_type": "code",
      "metadata": {
        "_cell_guid": "79c7e3d0-c299-4dcb-8224-4455121ee9b0",
        "_uuid": "d629ff2d2480ee46fbb7e2d37f6b5fab8052498a",
        "execution": {
          "iopub.execute_input": "2021-01-14T22:02:37.911954Z",
          "iopub.status.busy": "2021-01-14T22:02:37.911435Z",
          "iopub.status.idle": "2021-01-14T22:02:37.920609Z",
          "shell.execute_reply": "2021-01-14T22:02:37.920140Z"
        },
        "papermill": {
          "duration": 0.090975,
          "end_time": "2021-01-14T22:02:37.920699",
          "exception": false,
          "start_time": "2021-01-14T22:02:37.829724",
          "status": "completed"
        },
        "tags": [],
        "trusted": true,
        "id": "t3t3PFAolpWe"
      },
      "source": [
        "df_train.head()"
      ],
      "execution_count": null,
      "outputs": []
    },
    {
      "cell_type": "markdown",
      "metadata": {
        "papermill": {
          "duration": 0.074198,
          "end_time": "2021-01-14T22:02:38.069043",
          "exception": false,
          "start_time": "2021-01-14T22:02:37.994845",
          "status": "completed"
        },
        "tags": [],
        "id": "61QmscR7lpWf"
      },
      "source": [
        "Checking category wise distribution of our test data."
      ]
    },
    {
      "cell_type": "code",
      "metadata": {
        "execution": {
          "iopub.execute_input": "2021-01-14T22:02:38.365831Z",
          "iopub.status.busy": "2021-01-14T22:02:38.361931Z",
          "iopub.status.idle": "2021-01-14T22:02:38.372233Z",
          "shell.execute_reply": "2021-01-14T22:02:38.373349Z"
        },
        "papermill": {
          "duration": 0.209486,
          "end_time": "2021-01-14T22:02:38.373514",
          "exception": false,
          "start_time": "2021-01-14T22:02:38.164028",
          "status": "completed"
        },
        "tags": [],
        "trusted": true,
        "id": "4JcxmbotlpWf"
      },
      "source": [
        "df_train.label.value_counts()"
      ],
      "execution_count": null,
      "outputs": []
    },
    {
      "cell_type": "code",
      "metadata": {
        "execution": {
          "iopub.execute_input": "2021-01-14T22:02:38.660776Z",
          "iopub.status.busy": "2021-01-14T22:02:38.660014Z",
          "iopub.status.idle": "2021-01-14T22:02:38.677405Z",
          "shell.execute_reply": "2021-01-14T22:02:38.676448Z"
        },
        "papermill": {
          "duration": 0.16535,
          "end_time": "2021-01-14T22:02:38.678385",
          "exception": false,
          "start_time": "2021-01-14T22:02:38.513035",
          "status": "completed"
        },
        "tags": [],
        "trusted": true,
        "id": "4sKLBJZflpWg"
      },
      "source": [
        "X_train = df_train.text.tolist()\n",
        "X_test = df_test.text.tolist()\n",
        "y_train = df_train.label.tolist()\n",
        "y_test = df_test.label.tolist()"
      ],
      "execution_count": null,
      "outputs": []
    },
    {
      "cell_type": "markdown",
      "metadata": {
        "papermill": {
          "duration": 0.074342,
          "end_time": "2021-01-14T22:02:38.846944",
          "exception": false,
          "start_time": "2021-01-14T22:02:38.772602",
          "status": "completed"
        },
        "tags": [],
        "id": "3dPv03hClpWg"
      },
      "source": [
        "Checking size of our train and test datasets:"
      ]
    },
    {
      "cell_type": "code",
      "metadata": {
        "execution": {
          "iopub.execute_input": "2021-01-14T22:02:39.004338Z",
          "iopub.status.busy": "2021-01-14T22:02:39.003104Z",
          "iopub.status.idle": "2021-01-14T22:02:39.006081Z",
          "shell.execute_reply": "2021-01-14T22:02:39.004826Z"
        },
        "papermill": {
          "duration": 0.08427,
          "end_time": "2021-01-14T22:02:39.006192",
          "exception": false,
          "start_time": "2021-01-14T22:02:38.921922",
          "status": "completed"
        },
        "tags": [],
        "trusted": true,
        "id": "ND4DlVHClpWg"
      },
      "source": [
        "print(len(X_train),len(X_test),len(y_train),len(y_test))"
      ],
      "execution_count": null,
      "outputs": []
    },
    {
      "cell_type": "markdown",
      "metadata": {
        "papermill": {
          "duration": 0.074923,
          "end_time": "2021-01-14T22:02:39.171767",
          "exception": false,
          "start_time": "2021-01-14T22:02:39.096844",
          "status": "completed"
        },
        "tags": [],
        "id": "5jDk3BZ5lpWh"
      },
      "source": [
        "Our dataset has below categories/factors:"
      ]
    },
    {
      "cell_type": "code",
      "metadata": {
        "execution": {
          "iopub.execute_input": "2021-01-14T22:02:39.494924Z",
          "iopub.status.busy": "2021-01-14T22:02:39.494403Z",
          "iopub.status.idle": "2021-01-14T22:02:39.498431Z",
          "shell.execute_reply": "2021-01-14T22:02:39.497999Z"
        },
        "papermill": {
          "duration": 0.082988,
          "end_time": "2021-01-14T22:02:39.498521",
          "exception": false,
          "start_time": "2021-01-14T22:02:39.415533",
          "status": "completed"
        },
        "tags": [],
        "trusted": true,
        "id": "69xzWWNzlpWh"
      },
      "source": [
        "factors = ['0', '1','2']"
      ],
      "execution_count": null,
      "outputs": []
    },
    {
      "cell_type": "markdown",
      "metadata": {
        "papermill": {
          "duration": 0.074875,
          "end_time": "2021-01-14T22:02:39.649788",
          "exception": false,
          "start_time": "2021-01-14T22:02:39.574913",
          "status": "completed"
        },
        "tags": [],
        "id": "dVq4-OrblpWh"
      },
      "source": [
        "Encoding our sentiment categories into numeric values:"
      ]
    },
    {
      "cell_type": "code",
      "metadata": {
        "execution": {
          "iopub.execute_input": "2021-01-14T22:02:39.805552Z",
          "iopub.status.busy": "2021-01-14T22:02:39.804851Z",
          "iopub.status.idle": "2021-01-14T22:02:39.807739Z",
          "shell.execute_reply": "2021-01-14T22:02:39.807322Z"
        },
        "papermill": {
          "duration": 0.082465,
          "end_time": "2021-01-14T22:02:39.807825",
          "exception": false,
          "start_time": "2021-01-14T22:02:39.725360",
          "status": "completed"
        },
        "tags": [],
        "trusted": true,
        "id": "tsgozp8flpWh"
      },
      "source": [
        "encoding = { '0': 0,\n",
        "    '1': 1,\n",
        "'2' : 2   \n",
        "}"
      ],
      "execution_count": null,
      "outputs": []
    },
    {
      "cell_type": "code",
      "metadata": {
        "execution": {
          "iopub.execute_input": "2021-01-14T22:02:40.003221Z",
          "iopub.status.busy": "2021-01-14T22:02:39.997982Z",
          "iopub.status.idle": "2021-01-14T22:02:40.007373Z",
          "shell.execute_reply": "2021-01-14T22:02:40.006917Z"
        },
        "papermill": {
          "duration": 0.124393,
          "end_time": "2021-01-14T22:02:40.007464",
          "exception": false,
          "start_time": "2021-01-14T22:02:39.883071",
          "status": "completed"
        },
        "tags": [],
        "trusted": true,
        "id": "O7zZ8IPDlpWi"
      },
      "source": [
        "y_train = [encoding[key] for key in y_train]\n",
        "y_test = [encoding[key] for key in y_test]"
      ],
      "execution_count": null,
      "outputs": []
    },
    {
      "cell_type": "markdown",
      "metadata": {
        "papermill": {
          "duration": 0.07594,
          "end_time": "2021-01-14T22:02:40.160801",
          "exception": false,
          "start_time": "2021-01-14T22:02:40.084861",
          "status": "completed"
        },
        "tags": [],
        "id": "bJkiwTuylpWi"
      },
      "source": [
        "# Building Model using Transformer"
      ]
    },
    {
      "cell_type": "markdown",
      "metadata": {
        "papermill": {
          "duration": 0.093469,
          "end_time": "2021-01-14T22:02:40.330107",
          "exception": false,
          "start_time": "2021-01-14T22:02:40.236638",
          "status": "completed"
        },
        "tags": [],
        "id": "oQ7NcF2IlpWi"
      },
      "source": [
        "We are using bert-base-uncased model. You can choose any other model. I am selecting maxlen of tokenization as 512 (it's max for BERT)."
      ]
    },
    {
      "cell_type": "code",
      "metadata": {
        "execution": {
          "iopub.execute_input": "2021-01-14T22:02:40.485608Z",
          "iopub.status.busy": "2021-01-14T22:02:40.484860Z",
          "iopub.status.idle": "2021-01-14T22:02:41.271808Z",
          "shell.execute_reply": "2021-01-14T22:02:41.269176Z"
        },
        "papermill": {
          "duration": 0.866846,
          "end_time": "2021-01-14T22:02:41.271971",
          "exception": false,
          "start_time": "2021-01-14T22:02:40.405125",
          "status": "completed"
        },
        "tags": [],
        "trusted": true,
        "id": "eu2r-rAalpWi"
      },
      "source": [
        "model_arch ='bert-base-uncased'\n",
        "MAXLEN = 100\n",
        "trans = text.Transformer(model_arch, maxlen=MAXLEN, class_names= factors)\n"
      ],
      "execution_count": null,
      "outputs": []
    },
    {
      "cell_type": "markdown",
      "metadata": {
        "papermill": {
          "duration": 0.076427,
          "end_time": "2021-01-14T22:02:41.426794",
          "exception": false,
          "start_time": "2021-01-14T22:02:41.350367",
          "status": "completed"
        },
        "tags": [],
        "id": "boYwyw0olpWj"
      },
      "source": [
        "Let's preprocess out test and train data set."
      ]
    },
    {
      "cell_type": "code",
      "metadata": {
        "execution": {
          "iopub.execute_input": "2021-01-14T22:02:41.671534Z",
          "iopub.status.busy": "2021-01-14T22:02:41.652643Z",
          "iopub.status.idle": "2021-01-14T22:03:35.950268Z",
          "shell.execute_reply": "2021-01-14T22:03:35.949759Z"
        },
        "papermill": {
          "duration": 54.438273,
          "end_time": "2021-01-14T22:03:35.950381",
          "exception": false,
          "start_time": "2021-01-14T22:02:41.512108",
          "status": "completed"
        },
        "tags": [],
        "trusted": true,
        "id": "stloSJAClpWj"
      },
      "source": [
        "train_data = trans.preprocess_train(X_train,y_train)\n",
        "test_data = trans.preprocess_test(X_test,y_test)"
      ],
      "execution_count": null,
      "outputs": []
    },
    {
      "cell_type": "code",
      "metadata": {
        "execution": {
          "iopub.execute_input": "2021-01-14T22:03:36.116069Z",
          "iopub.status.busy": "2021-01-14T22:03:36.115296Z",
          "iopub.status.idle": "2021-01-14T22:04:11.623022Z",
          "shell.execute_reply": "2021-01-14T22:04:11.621824Z"
        },
        "papermill": {
          "duration": 35.59164,
          "end_time": "2021-01-14T22:04:11.623146",
          "exception": false,
          "start_time": "2021-01-14T22:03:36.031506",
          "status": "completed"
        },
        "tags": [],
        "trusted": true,
        "id": "e5XL1uzKlpWj"
      },
      "source": [
        "model = trans.get_classifier()"
      ],
      "execution_count": null,
      "outputs": []
    },
    {
      "cell_type": "code",
      "metadata": {
        "execution": {
          "iopub.execute_input": "2021-01-14T22:04:11.801498Z",
          "iopub.status.busy": "2021-01-14T22:04:11.800580Z",
          "iopub.status.idle": "2021-01-14T22:04:12.891516Z",
          "shell.execute_reply": "2021-01-14T22:04:12.890778Z"
        },
        "papermill": {
          "duration": 1.18267,
          "end_time": "2021-01-14T22:04:12.891624",
          "exception": false,
          "start_time": "2021-01-14T22:04:11.708954",
          "status": "completed"
        },
        "tags": [],
        "trusted": true,
        "id": "BVo9OCHIlpWj"
      },
      "source": [
        "learner = ktrain.get_learner(model, train_data=train_data, val_data=test_data, batch_size=32)"
      ],
      "execution_count": null,
      "outputs": []
    },
    {
      "cell_type": "markdown",
      "metadata": {
        "papermill": {
          "duration": 0.084328,
          "end_time": "2021-01-14T22:04:13.059866",
          "exception": false,
          "start_time": "2021-01-14T22:04:12.975538",
          "status": "completed"
        },
        "tags": [],
        "id": "e7Z1UWNRlpWk"
      },
      "source": [
        "Finding the best learning rate:"
      ]
    },
    {
      "cell_type": "markdown",
      "metadata": {
        "papermill": {
          "duration": 0.08097,
          "end_time": "2021-01-14T22:04:13.221908",
          "exception": false,
          "start_time": "2021-01-14T22:04:13.140938",
          "status": "completed"
        },
        "tags": [],
        "id": "kSzQJ3f0lpWk"
      },
      "source": [
        "https://www.kaggle.com/search?q=bert+in%3Anotebooks+date%3A90"
      ]
    },
    {
      "cell_type": "code",
      "metadata": {
        "execution": {
          "iopub.execute_input": "2021-01-14T22:04:13.390478Z",
          "iopub.status.busy": "2021-01-14T22:04:13.388472Z",
          "iopub.status.idle": "2021-01-14T22:04:13.391096Z",
          "shell.execute_reply": "2021-01-14T22:04:13.391566Z"
        },
        "papermill": {
          "duration": 0.088384,
          "end_time": "2021-01-14T22:04:13.391679",
          "exception": false,
          "start_time": "2021-01-14T22:04:13.303295",
          "status": "completed"
        },
        "tags": [],
        "trusted": true,
        "id": "YcIGHwMTlpWk"
      },
      "source": [
        "#learner.lr_find(show_plot=True, max_epochs=4)"
      ],
      "execution_count": null,
      "outputs": []
    },
    {
      "cell_type": "code",
      "metadata": {
        "execution": {
          "iopub.execute_input": "2021-01-14T22:04:13.558564Z",
          "iopub.status.busy": "2021-01-14T22:04:13.557744Z",
          "iopub.status.idle": "2021-01-14T22:38:23.121122Z",
          "shell.execute_reply": "2021-01-14T22:38:23.120456Z"
        },
        "papermill": {
          "duration": 2049.6485,
          "end_time": "2021-01-14T22:38:23.121284",
          "exception": false,
          "start_time": "2021-01-14T22:04:13.472784",
          "status": "completed"
        },
        "tags": [],
        "trusted": true,
        "id": "R0dPUd9elpWk"
      },
      "source": [
        "learner.fit_onecycle(1e-4, 10)\r\n",
        "#learner.autofit(0.0001,10)"
      ],
      "execution_count": null,
      "outputs": []
    },
    {
      "cell_type": "markdown",
      "metadata": {
        "papermill": {
          "duration": 1.305536,
          "end_time": "2021-01-14T22:38:26.014505",
          "exception": false,
          "start_time": "2021-01-14T22:38:24.708969",
          "status": "completed"
        },
        "tags": [],
        "id": "_jByQbtflpWk"
      },
      "source": [
        "**Confusion Matrix:**"
      ]
    },
    {
      "cell_type": "code",
      "metadata": {
        "id": "u32H37dr4fTT"
      },
      "source": [
        "learner.model.summary()"
      ],
      "execution_count": null,
      "outputs": []
    },
    {
      "cell_type": "code",
      "metadata": {
        "execution": {
          "iopub.execute_input": "2021-01-14T22:38:28.603782Z",
          "iopub.status.busy": "2021-01-14T22:38:28.601529Z",
          "iopub.status.idle": "2021-01-14T22:43:24.269637Z",
          "shell.execute_reply": "2021-01-14T22:43:24.268762Z"
        },
        "papermill": {
          "duration": 296.955894,
          "end_time": "2021-01-14T22:43:24.269807",
          "exception": false,
          "start_time": "2021-01-14T22:38:27.313913",
          "status": "completed"
        },
        "tags": [],
        "trusted": true,
        "id": "MlHqz48glpWl"
      },
      "source": [
        "learner.validate(val_data=test_data, class_names=factors)"
      ],
      "execution_count": null,
      "outputs": []
    },
    {
      "cell_type": "markdown",
      "metadata": {
        "papermill": {
          "duration": 1.264132,
          "end_time": "2021-01-14T22:43:26.824679",
          "exception": false,
          "start_time": "2021-01-14T22:43:25.560547",
          "status": "completed"
        },
        "tags": [],
        "id": "fxjMxaj9lpWl"
      },
      "source": [
        "**top 5 data points not performing good:**"
      ]
    },
    {
      "cell_type": "code",
      "metadata": {
        "execution": {
          "iopub.execute_input": "2021-01-14T22:43:29.935464Z",
          "iopub.status.busy": "2021-01-14T22:43:29.933819Z",
          "iopub.status.idle": "2021-01-14T22:48:22.481599Z",
          "shell.execute_reply": "2021-01-14T22:48:22.482532Z"
        },
        "papermill": {
          "duration": 293.92028,
          "end_time": "2021-01-14T22:48:22.482736",
          "exception": false,
          "start_time": "2021-01-14T22:43:28.562456",
          "status": "completed"
        },
        "tags": [],
        "trusted": true,
        "id": "n-9-n4ZglpWl"
      },
      "source": [
        "learner.view_top_losses(n=5, preproc=trans)"
      ],
      "execution_count": null,
      "outputs": []
    },
    {
      "cell_type": "code",
      "metadata": {
        "execution": {
          "iopub.execute_input": "2021-01-14T22:48:25.018188Z",
          "iopub.status.busy": "2021-01-14T22:48:25.017426Z",
          "iopub.status.idle": "2021-01-14T22:48:25.020547Z",
          "shell.execute_reply": "2021-01-14T22:48:25.020959Z"
        },
        "papermill": {
          "duration": 1.26837,
          "end_time": "2021-01-14T22:48:25.021072",
          "exception": false,
          "start_time": "2021-01-14T22:48:23.752702",
          "status": "completed"
        },
        "tags": [],
        "trusted": true,
        "id": "yYMcDpSxlpWl"
      },
      "source": [
        "X_test[1928]"
      ],
      "execution_count": null,
      "outputs": []
    },
    {
      "cell_type": "markdown",
      "metadata": {
        "papermill": {
          "duration": 1.283945,
          "end_time": "2021-01-14T22:48:27.567917",
          "exception": false,
          "start_time": "2021-01-14T22:48:26.283972",
          "status": "completed"
        },
        "tags": [],
        "id": "7gg3pCqalpWl"
      },
      "source": [
        "Above data our model is predicting as sadness but label is mentioned as fear."
      ]
    },
    {
      "cell_type": "markdown",
      "metadata": {
        "papermill": {
          "duration": 1.26533,
          "end_time": "2021-01-14T22:48:30.395706",
          "exception": false,
          "start_time": "2021-01-14T22:48:29.130376",
          "status": "completed"
        },
        "tags": [],
        "id": "7aWIpLkalpWm"
      },
      "source": [
        "# Predict Data:"
      ]
    },
    {
      "cell_type": "code",
      "metadata": {
        "execution": {
          "iopub.execute_input": "2021-01-14T22:48:32.996023Z",
          "iopub.status.busy": "2021-01-14T22:48:32.995278Z",
          "iopub.status.idle": "2021-01-14T22:48:32.998119Z",
          "shell.execute_reply": "2021-01-14T22:48:32.997712Z"
        },
        "papermill": {
          "duration": 1.28935,
          "end_time": "2021-01-14T22:48:32.998226",
          "exception": false,
          "start_time": "2021-01-14T22:48:31.708876",
          "status": "completed"
        },
        "tags": [],
        "trusted": true,
        "id": "wQzKKwNmlpWm"
      },
      "source": [
        "predictor = ktrain.get_predictor(learner.model, preproc=trans)"
      ],
      "execution_count": null,
      "outputs": []
    },
    {
      "cell_type": "code",
      "metadata": {
        "execution": {
          "iopub.execute_input": "2021-01-14T22:48:35.565966Z",
          "iopub.status.busy": "2021-01-14T22:48:35.565432Z",
          "iopub.status.idle": "2021-01-14T22:48:35.569093Z",
          "shell.execute_reply": "2021-01-14T22:48:35.569483Z"
        },
        "papermill": {
          "duration": 1.310065,
          "end_time": "2021-01-14T22:48:35.569596",
          "exception": false,
          "start_time": "2021-01-14T22:48:34.259531",
          "status": "completed"
        },
        "tags": [],
        "trusted": true,
        "id": "71elGHKSlpWm"
      },
      "source": [
        "inp = 'Makhyebkom w makhyeb serviskom 9adsh manhebkomch'"
      ],
      "execution_count": null,
      "outputs": []
    },
    {
      "cell_type": "code",
      "metadata": {
        "execution": {
          "iopub.execute_input": "2021-01-14T22:48:38.111448Z",
          "iopub.status.busy": "2021-01-14T22:48:38.110608Z",
          "iopub.status.idle": "2021-01-14T22:48:38.197098Z",
          "shell.execute_reply": "2021-01-14T22:48:38.196675Z"
        },
        "papermill": {
          "duration": 1.352466,
          "end_time": "2021-01-14T22:48:38.197210",
          "exception": false,
          "start_time": "2021-01-14T22:48:36.844744",
          "status": "completed"
        },
        "tags": [],
        "trusted": true,
        "id": "dfh9562xlpWm"
      },
      "source": [
        "predictor.predict(inp)"
      ],
      "execution_count": null,
      "outputs": []
    },
    {
      "cell_type": "code",
      "metadata": {
        "id": "4Arz2MPw2CfB"
      },
      "source": [
        "!pip3 install git+https://github.com/amaiya/eli5@tfkeras_0_10_1"
      ],
      "execution_count": null,
      "outputs": []
    },
    {
      "cell_type": "code",
      "metadata": {
        "id": "K1_KlrZG1zPZ"
      },
      "source": [
        "predictor.explain(inp)"
      ],
      "execution_count": null,
      "outputs": []
    },
    {
      "cell_type": "code",
      "metadata": {
        "execution": {
          "iopub.execute_input": "2021-01-14T22:48:41.083008Z",
          "iopub.status.busy": "2021-01-14T22:48:41.082206Z",
          "iopub.status.idle": "2021-01-14T22:48:41.160736Z",
          "shell.execute_reply": "2021-01-14T22:48:41.160173Z"
        },
        "papermill": {
          "duration": 1.442751,
          "end_time": "2021-01-14T22:48:41.160825",
          "exception": false,
          "start_time": "2021-01-14T22:48:39.718074",
          "status": "completed"
        },
        "tags": [],
        "trusted": true,
        "id": "5NtcgOdMlpWm"
      },
      "source": [
        "predictor.predict(\"الغرفة كانت نظيفة ، الطعام ممتاز ، وأنا أحب المنظر من غرفتي.\")\n"
      ],
      "execution_count": null,
      "outputs": []
    },
    {
      "cell_type": "code",
      "metadata": {
        "execution": {
          "iopub.execute_input": "2021-01-14T22:48:43.830102Z",
          "iopub.status.busy": "2021-01-14T22:48:43.829164Z",
          "iopub.status.idle": "2021-01-14T22:48:43.910275Z",
          "shell.execute_reply": "2021-01-14T22:48:43.909758Z"
        },
        "papermill": {
          "duration": 1.37925,
          "end_time": "2021-01-14T22:48:43.910388",
          "exception": false,
          "start_time": "2021-01-14T22:48:42.531138",
          "status": "completed"
        },
        "tags": [],
        "trusted": true,
        "id": "VHsyBotrlpWn"
      },
      "source": [
        "predictor.predict(\"mahlekooooom ya jme3a 9adesh el service mte3kom 5ayebbbb\")"
      ],
      "execution_count": null,
      "outputs": []
    },
    {
      "cell_type": "code",
      "metadata": {
        "execution": {
          "iopub.execute_input": "2021-01-14T22:48:46.565394Z",
          "iopub.status.busy": "2021-01-14T22:48:46.564547Z",
          "iopub.status.idle": "2021-01-14T22:48:46.639998Z",
          "shell.execute_reply": "2021-01-14T22:48:46.638967Z"
        },
        "papermill": {
          "duration": 1.399155,
          "end_time": "2021-01-14T22:48:46.640109",
          "exception": false,
          "start_time": "2021-01-14T22:48:45.240954",
          "status": "completed"
        },
        "tags": [],
        "trusted": true,
        "id": "-xjZ5JnmlpWn"
      },
      "source": [
        "predictor.predict(\"vraiment mouch normal haja tayarra barcha wallahi yaatikom alf al f sahha .\")"
      ],
      "execution_count": null,
      "outputs": []
    },
    {
      "cell_type": "code",
      "metadata": {
        "execution": {
          "iopub.execute_input": "2021-01-14T22:48:49.228150Z",
          "iopub.status.busy": "2021-01-14T22:48:49.227292Z",
          "iopub.status.idle": "2021-01-14T22:48:49.313681Z",
          "shell.execute_reply": "2021-01-14T22:48:49.313113Z"
        },
        "papermill": {
          "duration": 1.391922,
          "end_time": "2021-01-14T22:48:49.313792",
          "exception": false,
          "start_time": "2021-01-14T22:48:47.921870",
          "status": "completed"
        },
        "tags": [],
        "trusted": true,
        "id": "UWHWCaDIlpWn"
      },
      "source": [
        "predictor.predict(\"Makhyeb eeichetkom 9adesh nakrahha \")"
      ],
      "execution_count": null,
      "outputs": []
    },
    {
      "cell_type": "code",
      "metadata": {
        "execution": {
          "iopub.execute_input": "2021-01-14T22:48:52.693547Z",
          "iopub.status.busy": "2021-01-14T22:48:52.692694Z",
          "iopub.status.idle": "2021-01-14T22:48:52.774004Z",
          "shell.execute_reply": "2021-01-14T22:48:52.773556Z"
        },
        "papermill": {
          "duration": 1.368346,
          "end_time": "2021-01-14T22:48:52.774100",
          "exception": false,
          "start_time": "2021-01-14T22:48:51.405754",
          "status": "completed"
        },
        "tags": [],
        "trusted": true,
        "id": "fjJ60QGclpWo"
      },
      "source": [
        "predictor.predict(\"yaatikom essahaha haja wowwww\")"
      ],
      "execution_count": null,
      "outputs": []
    },
    {
      "cell_type": "code",
      "metadata": {
        "id": "wljrRlO_nLWF"
      },
      "source": [
        "from google.colab import drive\r\n",
        "drive.mount('/content/drive')"
      ],
      "execution_count": null,
      "outputs": []
    },
    {
      "cell_type": "code",
      "metadata": {
        "id": "Mii59lJcnMPc"
      },
      "source": [
        "!ls"
      ],
      "execution_count": null,
      "outputs": []
    },
    {
      "cell_type": "code",
      "metadata": {
        "execution": {
          "iopub.execute_input": "2021-01-14T22:48:55.344885Z",
          "iopub.status.busy": "2021-01-14T22:48:55.344344Z",
          "iopub.status.idle": "2021-01-14T22:48:56.833109Z",
          "shell.execute_reply": "2021-01-14T22:48:56.832001Z"
        },
        "papermill": {
          "duration": 2.772506,
          "end_time": "2021-01-14T22:48:56.833247",
          "exception": false,
          "start_time": "2021-01-14T22:48:54.060741",
          "status": "completed"
        },
        "tags": [],
        "trusted": true,
        "id": "vyAu40WPlpWo"
      },
      "source": [
        "# save model for later use\n",
        "predictor.save('/content/drive/MyDrive/Data Science Project Naim /arabic_predictor')\n",
        "# save model using transformers API after partially training\n",
        "learner.model.save_pretrained('/content/drive/MyDrive/Data Science Project Naim /arabic_predictor')\n"
      ],
      "execution_count": null,
      "outputs": []
    },
    {
      "cell_type": "code",
      "metadata": {
        "execution": {
          "iopub.execute_input": "2021-01-14T22:48:59.497297Z",
          "iopub.status.busy": "2021-01-14T22:48:59.485361Z",
          "iopub.status.idle": "2021-01-14T22:49:00.968958Z",
          "shell.execute_reply": "2021-01-14T22:49:00.969411Z"
        },
        "papermill": {
          "duration": 2.795401,
          "end_time": "2021-01-14T22:49:00.969555",
          "exception": false,
          "start_time": "2021-01-14T22:48:58.174154",
          "status": "completed"
        },
        "tags": [],
        "trusted": true,
        "id": "7fyS24H1lpWp"
      },
      "source": [
        "# reload from disk\n",
        "loaded_model = ktrain.load_predictor('/content/drive/MyDrive/Data Science Project Naim /arabic_predictor')"
      ],
      "execution_count": null,
      "outputs": []
    },
    {
      "cell_type": "code",
      "metadata": {
        "execution": {
          "iopub.execute_input": "2021-01-14T22:49:04.508261Z",
          "iopub.status.busy": "2021-01-14T22:49:04.507438Z",
          "iopub.status.idle": "2021-01-14T22:49:08.271093Z",
          "shell.execute_reply": "2021-01-14T22:49:08.270078Z"
        },
        "papermill": {
          "duration": 5.065117,
          "end_time": "2021-01-14T22:49:08.271241",
          "exception": false,
          "start_time": "2021-01-14T22:49:03.206124",
          "status": "completed"
        },
        "tags": [],
        "trusted": true,
        "id": "PqOHw2trlpWp"
      },
      "source": [
        "# still works as expected after reloading from disk\n",
        "t1 = 'aka rihab mahich professionel  w khaletha bina ya sahbi fi chtar ethniyyaa brass la7nina chnowa rayek '\n",
        "loaded_model.predict(t1)"
      ],
      "execution_count": null,
      "outputs": []
    },
    {
      "cell_type": "code",
      "metadata": {
        "id": "4TcMcuMF0SNl"
      },
      "source": [
        "loaded_model.explain(t1)"
      ],
      "execution_count": null,
      "outputs": []
    },
    {
      "cell_type": "code",
      "metadata": {
        "id": "8hIkRY3-2Vto"
      },
      "source": [
        "\"\"\"from sklearn.metrics import roc_auc_score\r\n",
        "y_pred = learner.model.predict(X_test, verbose=0)\r\n",
        "score = roc_auc_score(Y_test, y_pred)\r\n",
        "print(\"\\n ROC-AUC score: %.6f \\n\" % (score))\"\"\""
      ],
      "execution_count": null,
      "outputs": []
    },
    {
      "cell_type": "code",
      "metadata": {
        "id": "7mBowgQNJ7j5"
      },
      "source": [
        "# save model using transformers API after partially training\r\n",
        "#learner.model.save_pretrained('/content/arabic_predictor')\r\n",
        "\r\n",
        "# reload the model using transformers directly\r\n",
        "from transformers import *\r\n",
        "model = TFAutoModelForSequenceClassification.from_pretrained('/content/drive/MyDrive/Data Science Project Naim /arabic_predictor')\r\n",
        "model.compile(loss='categorical_crossentropy',optimizer='adam', metrics=['accuracy'])\r\n",
        "\r\n",
        "# re-instantiate Learner and continue training\r\n",
        "learner = ktrain.get_learner(model, train_data=train_data, val_data=test_data, batch_size=32)\r\n",
        "learner.fit_onecycle(1e-4, 10)"
      ],
      "execution_count": null,
      "outputs": []
    },
    {
      "cell_type": "code",
      "metadata": {
        "id": "0m_OxLv6VLgg"
      },
      "source": [
        "# save model using transformers API after partially training\r\n",
        "learner.model.save_pretrained('/content/drive/MyDrive/Data Science Project Naim /arabic_predictor/my_model')"
      ],
      "execution_count": null,
      "outputs": []
    },
    {
      "cell_type": "code",
      "metadata": {
        "id": "unt1EMU7VRdh"
      },
      "source": [
        "predictor.save('/content/drive/MyDrive/Data Science Project Naim /arabic_predictor')"
      ],
      "execution_count": null,
      "outputs": []
    },
    {
      "cell_type": "markdown",
      "metadata": {
        "id": "mL7ZenCYoyCq"
      },
      "source": [
        "+++++++++++++++++++++++++++++++++++++++++++++++"
      ]
    }
  ]
}